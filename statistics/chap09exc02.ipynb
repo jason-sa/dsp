{
 "cells": [
  {
   "cell_type": "markdown",
   "metadata": {},
   "source": [
    "## Excercise 9.2\n",
    "\n",
    "Create a subclass of `DiffMeansPermute` to perform a hypothesis test comparing means by resampling instead of permuting the current population."
   ]
  },
  {
   "cell_type": "code",
   "execution_count": 39,
   "metadata": {},
   "outputs": [],
   "source": [
    "import nsfg\n",
    "import nsfg2\n",
    "import first\n",
    "\n",
    "import thinkstats2\n",
    "import thinkplot\n",
    "\n",
    "import numpy as np\n",
    "\n",
    "class DiffMeansPermute(thinkstats2.HypothesisTest):\n",
    "    \"\"\"Tests a difference in means by permutation.\"\"\"\n",
    "\n",
    "    def TestStatistic(self, data):\n",
    "        \"\"\"Computes the test statistic.\n",
    "\n",
    "        data: data in whatever form is relevant        \n",
    "        \"\"\"\n",
    "        group1, group2 = data\n",
    "        test_stat = abs(group1.mean() - group2.mean())\n",
    "        #print(group1.mean())\n",
    "        return test_stat\n",
    "\n",
    "    def MakeModel(self):\n",
    "        \"\"\"Build a model of the null hypothesis.\n",
    "        \"\"\"\n",
    "        group1, group2 = self.data\n",
    "        self.n, self.m = len(group1), len(group2)\n",
    "        self.pool = np.hstack((group1, group2))\n",
    "\n",
    "    def RunModel(self):\n",
    "        \"\"\"Run the model of the null hypothesis.\n",
    "\n",
    "        returns: simulated data\n",
    "        \"\"\"\n",
    "        np.random.shuffle(self.pool)\n",
    "        data = self.pool[:self.n], self.pool[self.n:]\n",
    "        return data\n",
    "\n",
    "class DiffMeansResample(DiffMeansPermute):\n",
    "    def RunModel(self):\n",
    "        sample1 = np.random.choice(self.pool, self.n, replace=True)\n",
    "        sample2 = np.random.choice(self.pool, self.m, replace=True)\n",
    "        return sample1, sample2"
   ]
  },
  {
   "cell_type": "markdown",
   "metadata": {},
   "source": [
    "Calculate the new p-value using the resampling model comparing pregnancy lengths of the first birth versus subsequent births."
   ]
  },
  {
   "cell_type": "code",
   "execution_count": 18,
   "metadata": {},
   "outputs": [
    {
     "name": "stdout",
     "output_type": "stream",
     "text": [
      "p-value for pregnancy length 0.161\n",
      "actual difference 0.07803726677754952\n"
     ]
    }
   ],
   "source": [
    "live, firsts, others = first.MakeFrames()\n",
    "data = firsts.prglngth.values, others.prglngth.values\n",
    "ht = DiffMeansResample(data)\n",
    "p_val = ht.PValue()\n",
    "print('p-value for pregnancy length',p_val)\n",
    "print('actual difference of avg pregnancy length', ht.actual)"
   ]
  },
  {
   "cell_type": "markdown",
   "metadata": {},
   "source": [
    "The acutal difference in pregnancy length is 0.07 weeks with a $p$ value of 0.161. The $p$ value is large, and thus there is no real statistical significance between the average pregnancy length of a mother's first birth and any subsequent birth.\n",
    "\n",
    "Now let's analyze the average birth weight of the baby comparing the first birth versus subsequent births."
   ]
  },
  {
   "cell_type": "code",
   "execution_count": 41,
   "metadata": {},
   "outputs": [
    {
     "name": "stdout",
     "output_type": "stream",
     "text": [
      "p-value for birth weight 0.0\n",
      "actual differnce of average birth weight 0.12476118453549034\n"
     ]
    }
   ],
   "source": [
    "data = firsts.totalwgt_lb.dropna().values, others.totalwgt_lb.dropna().values\n",
    "\n",
    "ht = DiffMeansResample(data)\n",
    "p_val = ht.PValue()\n",
    "print('p-value for birth weight', p_val)\n",
    "print('actual differnce of avg birth weight', ht.actual)"
   ]
  },
  {
   "cell_type": "markdown",
   "metadata": {},
   "source": [
    "The actual difference in average birth weight is 0.12 lbs with a $p$ value of 0.0. There is a statistical difference between the average birth weight of the first birth and all subsequent births."
   ]
  },
  {
   "cell_type": "code",
   "execution_count": null,
   "metadata": {},
   "outputs": [],
   "source": []
  }
 ],
 "metadata": {
  "kernelspec": {
   "display_name": "Python 3",
   "language": "python",
   "name": "python3"
  },
  "language_info": {
   "codemirror_mode": {
    "name": "ipython",
    "version": 3
   },
   "file_extension": ".py",
   "mimetype": "text/x-python",
   "name": "python",
   "nbconvert_exporter": "python",
   "pygments_lexer": "ipython3",
   "version": "3.6.5"
  }
 },
 "nbformat": 4,
 "nbformat_minor": 2
}
