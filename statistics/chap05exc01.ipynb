{
 "cells": [
  {
   "cell_type": "markdown",
   "metadata": {},
   "source": [
    "## Exercise 5.1\n",
    "What percentage of the U.S. male population are between 5'10'' and 6'1'' using the BRFSS sample? First, import `scipy.stats` and build a normal distribution with $\\mu = 178$ and $\\sigma = 7.7$. Second, convert feet to cm. Lastly, calculate the CDF for men less or equal 5'10'' and 6'1'', and subtract to determine the percentage of men between the two heights."
   ]
  },
  {
   "cell_type": "code",
   "execution_count": 16,
   "metadata": {},
   "outputs": [
    {
     "name": "stdout",
     "output_type": "stream",
     "text": [
      "Men less than or equal to 5'10'' =  0.49\n",
      "Men less than or equla to 6'1'' =  0.83\n",
      "Men eligible for the blue man group =  0.34\n"
     ]
    }
   ],
   "source": [
    "import scipy.stats\n",
    "\n",
    "mu = 178\n",
    "sigma = 7.7\n",
    "dist = scipy.stats.norm(loc=mu, scale=sigma)\n",
    "\n",
    "five_foot_ten_cm = (5 * 12 + 10) * 2.54\n",
    "six_foot_one_cm = (6 * 12 + 1) * 2.54\n",
    "\n",
    "print(\"Men less than or equal to 5'10'' = \", round(dist.cdf(five_foot_ten_cm),2) )\n",
    "print(\"Men less than or equla to 6'1'' = \", round(dist.cdf(six_foot_one_cm),2))\n",
    "print(\"Men eligible for the blue man group = \"\n",
    "      ,round(dist.cdf(six_foot_one_cm) - dist.cdf(five_foot_ten_cm),2))"
   ]
  }
 ],
 "metadata": {
  "kernelspec": {
   "display_name": "Python 3",
   "language": "python",
   "name": "python3"
  },
  "language_info": {
   "codemirror_mode": {
    "name": "ipython",
    "version": 3
   },
   "file_extension": ".py",
   "mimetype": "text/x-python",
   "name": "python",
   "nbconvert_exporter": "python",
   "pygments_lexer": "ipython3",
   "version": "3.6.5"
  }
 },
 "nbformat": 4,
 "nbformat_minor": 2
}
