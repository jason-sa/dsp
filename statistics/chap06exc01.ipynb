{
 "cells": [
  {
   "cell_type": "markdown",
   "metadata": {},
   "source": [
    "## Excercise 6.1\n",
    "Import the necessary libraries. Define functions to calculate mean, median, skewness, and Pearson's skewness of a sample, and also define a function to sample with different upper bounds."
   ]
  },
  {
   "cell_type": "code",
   "execution_count": 49,
   "metadata": {},
   "outputs": [],
   "source": [
    "import thinkstats2\n",
    "import thinkplot\n",
    "import hinc\n",
    "import hinc2\n",
    "import math\n",
    "import numpy as np\n",
    "\n",
    "%matplotlib inline\n",
    "\n",
    "def createSample(log_upper=6.0):\n",
    "    df = hinc.ReadData()\n",
    "    s = hinc2.InterpolateSample(df,log_upper=log_upper)\n",
    "    s = np.power(10, s)\n",
    "    return s\n",
    "\n",
    "def Median(s):\n",
    "    cdf = thinkstats2.Cdf(s)\n",
    "    return cdf.Value(0.5)\n",
    "\n",
    "def RawMoment(s, k):\n",
    "    return sum(x**k for x in s) / len(s)\n",
    "\n",
    "def CentralMoment(s, k):\n",
    "    mean = RawMoment(s,1)\n",
    "    return sum((x - mean)**k for x in s) / len(s)\n",
    "\n",
    "def StandardizedMoment(s, k):\n",
    "    var = CentralMoment(s, 2)\n",
    "    std = math.sqrt(var)\n",
    "    return CentralMoment(s, k) / std**k\n",
    "\n",
    "def Skewness(s):\n",
    "    return StandardizedMoment(s, 3)\n",
    "\n",
    "def PearsonSkewness(s):\n",
    "    median = Median(s)\n",
    "    mean = RawMoment(s, 1)\n",
    "    var = CentralMoment(s, 2)\n",
    "    std = math.sqrt(var)\n",
    "    return 3 * (mean - median) / std\n"
   ]
  },
  {
   "cell_type": "markdown",
   "metadata": {},
   "source": [
    "Calcualte the median, mean, skeweness, Pearson's skewness, and a plot of the PDF of the sample with an upper bound 10^6."
   ]
  },
  {
   "cell_type": "code",
   "execution_count": 55,
   "metadata": {},
   "outputs": [
    {
     "name": "stderr",
     "output_type": "stream",
     "text": [
      "/Users/jadams/ds/metis/metisgh/prework/dsp/ThinkStats2/code/hinc2.py:33: SettingWithCopyWarning: \n",
      "A value is trying to be set on a copy of a slice from a DataFrame\n",
      "\n",
      "See the caveats in the documentation: http://pandas.pydata.org/pandas-docs/stable/indexing.html#indexing-view-versus-copy\n",
      "  df.log_lower[0] = 3.0\n",
      "/Users/jadams/ds/metis/metisgh/prework/dsp/ThinkStats2/code/hinc2.py:36: SettingWithCopyWarning: \n",
      "A value is trying to be set on a copy of a slice from a DataFrame\n",
      "\n",
      "See the caveats in the documentation: http://pandas.pydata.org/pandas-docs/stable/indexing.html#indexing-view-versus-copy\n",
      "  df.log_upper[41] = log_upper\n"
     ]
    },
    {
     "name": "stdout",
     "output_type": "stream",
     "text": [
      "Mean of the sample 74278.7075311872\n",
      "Std Dev of the sample 93946.92996347832\n",
      "Median of the sample 51226.45447894046\n",
      "Sample skewness of the sample 4.949920244429583\n",
      "Pearson's skewness of the sample 0.7361258019141782\n",
      "Percentage of households below the mean 0.660005879566872\n"
     ]
    },
    {
     "name": "stderr",
     "output_type": "stream",
     "text": [
      "No handles with labels found to put in legend.\n"
     ]
    },
    {
     "data": {
      "image/png": "[encoded data removed]",
      "text/plain": [
       "<Figure size 432x288 with 1 Axes>"
      ]
     },
     "metadata": {},
     "output_type": "display_data"
    },
    {
     "data": {
      "text/plain": [
       "<Figure size 576x432 with 0 Axes>"
      ]
     },
     "metadata": {},
     "output_type": "display_data"
    }
   ],
   "source": [
    "s = createSample(6.0)\n",
    "\n",
    "print('Mean of the sample', s.mean())\n",
    "print('Std Dev of the sample', math.sqrt(CentralMoment(s,2)))\n",
    "print('Median of the sample', Median(s))\n",
    "print('Sample skewness of the sample', Skewness(s))\n",
    "print('Pearson\\'s skewness of the sample',PearsonSkewness(s))\n",
    "print('Percentage of households below the mean', len(s[s <= s.mean()]) / len(s))\n",
    "\n",
    "sample_pdf = thinkstats2.EstimatedPdf(s)\n",
    "thinkplot.Pdf(sample_pdf)\n",
    "thinkplot.Show(xlabel = 'Household Income', ylabel = 'PDF')\n"
   ]
  },
  {
   "cell_type": "markdown",
   "metadata": {},
   "source": [
    "Let's see the effect of increasing the upper bound to 10^7."
   ]
  },
  {
   "cell_type": "code",
   "execution_count": 56,
   "metadata": {},
   "outputs": [
    {
     "name": "stderr",
     "output_type": "stream",
     "text": [
      "/Users/jadams/ds/metis/metisgh/prework/dsp/ThinkStats2/code/hinc2.py:33: SettingWithCopyWarning: \n",
      "A value is trying to be set on a copy of a slice from a DataFrame\n",
      "\n",
      "See the caveats in the documentation: http://pandas.pydata.org/pandas-docs/stable/indexing.html#indexing-view-versus-copy\n",
      "  df.log_lower[0] = 3.0\n",
      "/Users/jadams/ds/metis/metisgh/prework/dsp/ThinkStats2/code/hinc2.py:36: SettingWithCopyWarning: \n",
      "A value is trying to be set on a copy of a slice from a DataFrame\n",
      "\n",
      "See the caveats in the documentation: http://pandas.pydata.org/pandas-docs/stable/indexing.html#indexing-view-versus-copy\n",
      "  df.log_upper[41] = log_upper\n"
     ]
    },
    {
     "name": "stdout",
     "output_type": "stream",
     "text": [
      "Mean of the sample 124267.39722164697\n",
      "Std Dev of the sample 559608.5013743473\n",
      "Median of the sample 51226.45447894046\n",
      "Sample skewness of the sample 11.603690267537793\n",
      "Pearson's skewness of the sample 0.39156450927742087\n",
      "Percentage of households below the mean 0.8565630665207663\n"
     ]
    },
    {
     "name": "stderr",
     "output_type": "stream",
     "text": [
      "No handles with labels found to put in legend.\n"
     ]
    },
    {
     "data": {
      "image/png": "[encoded data removed]",
      "text/plain": [
       "<Figure size 432x288 with 1 Axes>"
      ]
     },
     "metadata": {},
     "output_type": "display_data"
    },
    {
     "data": {
      "text/plain": [
       "<Figure size 576x432 with 0 Axes>"
      ]
     },
     "metadata": {},
     "output_type": "display_data"
    }
   ],
   "source": [
    "s = createSample(7.0)\n",
    "\n",
    "print('Mean of the sample', s.mean())\n",
    "print('Std Dev of the sample', math.sqrt(CentralMoment(s,2)))\n",
    "print('Median of the sample', Median(s))\n",
    "print('Sample skewness of the sample', Skewness(s))\n",
    "print('Pearson\\'s skewness of the sample',PearsonSkewness(s))\n",
    "print('Percentage of households below the mean', len(s[s <= s.mean()]) / len(s))\n",
    "\n",
    "sample_pdf = thinkstats2.EstimatedPdf(s)\n",
    "thinkplot.Pdf(sample_pdf)\n",
    "thinkplot.Show(xlabel = 'Household Income', ylabel = 'PDF')"
   ]
  },
  {
   "cell_type": "markdown",
   "metadata": {},
   "source": [
    "Initally, both measure of skewness, sample and Pearson's, indicate an underlying distribution that is skewed to the left of the mean. However, as the upper bound is increased, then Pearson's skewness actually decreases even though you can see from the PDF plot that the distribution has a long left-tail. The sample mean increases, but the sample standard deviation greatly increases which results in a large denominator for Pearson's skewness, and thus a small value. The sample skewness appears to be a better measurment for this sample compared to Pearson's skewness."
   ]
  },
  {
   "cell_type": "code",
   "execution_count": null,
   "metadata": {},
   "outputs": [],
   "source": []
  }
 ],
 "metadata": {
  "kernelspec": {
   "display_name": "Python 3",
   "language": "python",
   "name": "python3"
  },
  "language_info": {
   "codemirror_mode": {
    "name": "ipython",
    "version": 3
   },
   "file_extension": ".py",
   "mimetype": "text/x-python",
   "name": "python",
   "nbconvert_exporter": "python",
   "pygments_lexer": "ipython3",
   "version": "3.6.5"
  }
 },
 "nbformat": 4,
 "nbformat_minor": 2
}
