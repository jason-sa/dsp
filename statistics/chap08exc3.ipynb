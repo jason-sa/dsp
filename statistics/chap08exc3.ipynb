{
 "cells": [
  {
   "cell_type": "markdown",
   "metadata": {},
   "source": [
    "## Excercise 8.3\n",
    "A simulation of a soccer or hockey game is built below. The input is the average number of goals scored per game, `lam`, and a simulation runs `n` times to create a sample. The mean error, RMSE, and 90% confidence intervals are reported to quantify the sampling error of this simulation."
   ]
  },
  {
   "cell_type": "code",
   "execution_count": 40,
   "metadata": {},
   "outputs": [
    {
     "name": "stderr",
     "output_type": "stream",
     "text": [
      "No handles with labels found to put in legend.\n"
     ]
    },
    {
     "name": "stdout",
     "output_type": "stream",
     "text": [
      "Mean error -0.00406\n",
      "RMSE 1.7335512683506076\n",
      "90% confidence interval (0, 6)\n"
     ]
    },
    {
     "data": {
      "image/png": "[encoded data removed]",
      "text/plain": [
       "<Figure size 432x288 with 1 Axes>"
      ]
     },
     "metadata": {},
     "output_type": "display_data"
    },
    {
     "data": {
      "text/plain": [
       "<Figure size 576x432 with 0 Axes>"
      ]
     },
     "metadata": {},
     "output_type": "display_data"
    }
   ],
   "source": [
    "import math\n",
    "import numpy as np\n",
    "import pandas as pd\n",
    "import thinkstats2\n",
    "import thinkplot\n",
    "\n",
    "def numGoalsScored(lam):\n",
    "    ''' Calculates the numebr of goals scored by sample an exp distrbution \n",
    "        assuming lam = goals per game\n",
    "        \n",
    "        lam: goals per game and > 0\n",
    "        \n",
    "        returns: int goals\n",
    "    '''\n",
    "    time = 0.0\n",
    "    goals = 0\n",
    "    while time <= 1:\n",
    "        time += np.random.exponential(1/lam)\n",
    "        if time < 1:\n",
    "            goals += 1\n",
    "    return goals\n",
    "\n",
    "def RMSE(estimates, actual):\n",
    "    \"\"\"Computes the root mean squared error of a sequence of estimates.\n",
    "\n",
    "    estimate: sequence of numbers\n",
    "    actual: actual value\n",
    "\n",
    "    returns: float RMSE\n",
    "    \"\"\"\n",
    "    e2 = [(estimate-actual)**2 for estimate in estimates]\n",
    "    mse = np.mean(e2)\n",
    "    return math.sqrt(mse)\n",
    "\n",
    "def MeanError(estimates, actual):\n",
    "    \"\"\"Computes the mean error of a sequence of estimates.\n",
    "\n",
    "    estimate: sequence of numbers\n",
    "    actual: actual value\n",
    "\n",
    "    returns: float mean error\n",
    "    \"\"\"\n",
    "    errors = [estimate-actual for estimate in estimates]\n",
    "    return np.mean(errors)\n",
    "\n",
    "def simulateGames(lam, n):\n",
    "    ''' Simulates multiple games\n",
    "    \n",
    "    lam: goals per game and > 0\n",
    "    n: number of games to simulate\n",
    "    \n",
    "    returns: int np.array\n",
    "    '''\n",
    "    means = []\n",
    "    for _ in range(n):\n",
    "        means.append(numGoalsScored(lam))\n",
    "    \n",
    "    return np.array(means)\n",
    "\n",
    "def VertLine(x, y=1):\n",
    "    thinkplot.Plot([x, x], [0, y], color='0.8', linewidth=3)\n",
    "\n",
    "lam = 3 # average goals scored per soccer game\n",
    "n = 100000 # num of times to run the simulation\n",
    "\n",
    "means = simulateGames(lam, n)\n",
    "print('Mean error', MeanError(means, lam))\n",
    "print('RMSE', RMSE(means, lam))\n",
    "\n",
    "cdf = thinkstats2.Cdf(means)\n",
    "ci = cdf.Percentile(5), cdf.Percentile(95)\n",
    "\n",
    "print('90% confidence interval', ci)\n",
    "\n",
    "VertLine(ci[0])\n",
    "VertLine(ci[1])\n",
    "thinkplot.Cdf(cdf)\n",
    "thinkplot.Show(xlabel = 'Sample goals scored per game', ylabel = 'CDF')"
   ]
  },
  {
   "cell_type": "markdown",
   "metadata": {},
   "source": [
    "The mean error and RMSE are very small, but the CI of $\\pm 3$ is somewhat large with $\\lambda = 3$. This is mostly related to $\\lambda$ being small and the underlying distribution has a lower bound of 0. Let's take a look at a plot of the RMSE as we vary `lam`."
   ]
  },
  {
   "cell_type": "code",
   "execution_count": 44,
   "metadata": {},
   "outputs": [
    {
     "name": "stderr",
     "output_type": "stream",
     "text": [
      "No handles with labels found to put in legend.\n"
     ]
    },
    {
     "data": {
      "image/png": "[encoded data removed]",
      "text/plain": [
       "<Figure size 432x288 with 1 Axes>"
      ]
     },
     "metadata": {},
     "output_type": "display_data"
    },
    {
     "data": {
      "text/plain": [
       "<Figure size 576x432 with 0 Axes>"
      ]
     },
     "metadata": {},
     "output_type": "display_data"
    }
   ],
   "source": [
    "rmse = {}\n",
    "for l in range(1,20):\n",
    "    rmse[l] = RMSE(simulateGames(l,n),l)\n",
    "    \n",
    "thinkplot.Plot(pd.Series(rmse))\n",
    "thinkplot.Show(xlabel = \"Goals per game\", ylabel = 'RMSE')"
   ]
  },
  {
   "cell_type": "markdown",
   "metadata": {},
   "source": [
    "If you increase the rate of goals scored per game, then the RMSE also increase. This is generally because as $\\lambda$ increases for the underlying Poisson distribution then it starts to converge to a normal distribution, $N(\\lambda, \\sqrt\\lambda)$, due to the central limit theorem (https://en.wikipedia.org/wiki/Central_limit_theorem). This means as $\\lambda$ increases then the underlying sample variance increases, and thus a higher RMSE. You can see this by plotting the sampling distribution for $\\lambda = 20$ as it starts to take the familiar sigmoid shape of a normal distribution CDF."
   ]
  },
  {
   "cell_type": "code",
   "execution_count": 45,
   "metadata": {},
   "outputs": [
    {
     "name": "stderr",
     "output_type": "stream",
     "text": [
      "No handles with labels found to put in legend.\n"
     ]
    },
    {
     "data": {
      "image/png": "[encoded data removed]",
      "text/plain": [
       "<Figure size 432x288 with 1 Axes>"
      ]
     },
     "metadata": {},
     "output_type": "display_data"
    },
    {
     "data": {
      "text/plain": [
       "<Figure size 576x432 with 0 Axes>"
      ]
     },
     "metadata": {},
     "output_type": "display_data"
    }
   ],
   "source": [
    "lam = 20\n",
    "means = simulateGames(lam, n)\n",
    "cdf = thinkstats2.Cdf(means)\n",
    "thinkplot.Cdf(cdf)\n",
    "thinkplot.Show(xlabel = 'Sample goals per game', ylabel = 'CDF')"
   ]
  },
  {
   "cell_type": "markdown",
   "metadata": {},
   "source": [
    "There is sampling bias we need to consider when running this type of experiment. The underlying assupmtion of the time between goals scored is exponentially distributed. This means the probability to score a goal in the game is indpendent of how long the game has been played or since the last goal scored due to the memoryless property of the exponential distribution. The games are played by athletes which inevitably become more tired as the game progresses, and thus more likely for a goal to be scored near the end of the game than the beginnning of the game. The exponential distribution is a good estimate for specific subsets of the game, and $\\lambda$ most likely changes throughout the game. However, further research will be need to prove out this bias."
   ]
  },
  {
   "cell_type": "code",
   "execution_count": null,
   "metadata": {},
   "outputs": [],
   "source": []
  }
 ],
 "metadata": {
  "kernelspec": {
   "display_name": "Python 3",
   "language": "python",
   "name": "python3"
  },
  "language_info": {
   "codemirror_mode": {
    "name": "ipython",
    "version": 3
   },
   "file_extension": ".py",
   "mimetype": "text/x-python",
   "name": "python",
   "nbconvert_exporter": "python",
   "pygments_lexer": "ipython3",
   "version": "3.6.5"
  }
 },
 "nbformat": 4,
 "nbformat_minor": 2
}
