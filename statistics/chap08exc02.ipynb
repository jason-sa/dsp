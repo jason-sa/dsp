{
 "cells": [
  {
   "cell_type": "markdown",
   "metadata": {},
   "source": [
    "## Excercise 8.2\n",
    "Build a function to sample an exponential distribution $n$ times for $m$ experiements."
   ]
  },
  {
   "cell_type": "code",
   "execution_count": 43,
   "metadata": {},
   "outputs": [],
   "source": [
    "import math\n",
    "import numpy as np\n",
    "import pandas as pd\n",
    "import thinkstats2\n",
    "import thinkplot\n",
    "\n",
    "def RMSE(estimates, actual):\n",
    "    \"\"\"Computes the root mean squared error of a sequence of estimates.\n",
    "\n",
    "    estimate: sequence of numbers\n",
    "    actual: actual value\n",
    "\n",
    "    returns: float RMSE\n",
    "    \"\"\"\n",
    "    e2 = [(estimate-actual)**2 for estimate in estimates]\n",
    "    mse = np.mean(e2)\n",
    "    return math.sqrt(mse)\n",
    "\n",
    "def VertLine(x, y=1):\n",
    "    thinkplot.Plot([x, x], [0, y], color='0.8', linewidth=3)\n",
    "\n",
    "def expSampling(n = 10, m = 1000, lam = 2):\n",
    "    \"\"\"Computes an array of means by sampling a exponential(1/lam) n times for m experiments.\n",
    "        \n",
    "    n: number of samples for each experiment\n",
    "    m: number of experiements to simulate\n",
    "    lam: lambda of the underlying exponential distribution\n",
    "    \n",
    "    returns: float np.array\n",
    "    \"\"\"\n",
    "        \n",
    "    means = []\n",
    "    for _ in range(m):\n",
    "        xs = np.random.exponential(1.0/lam, n)\n",
    "        L = 1 / np.mean(xs)\n",
    "        means.append(L)\n",
    "    \n",
    "    return means"
   ]
  },
  {
   "cell_type": "markdown",
   "metadata": {},
   "source": [
    "Run an expeirment 1000 times where a sample is taken 10 times from an exponential distribution with $\\lambda = 2$. Plot the sampling distribution and calcualte the 90% confidence interval."
   ]
  },
  {
   "cell_type": "code",
   "execution_count": 47,
   "metadata": {},
   "outputs": [
    {
     "name": "stderr",
     "output_type": "stream",
     "text": [
      "No handles with labels found to put in legend.\n"
     ]
    },
    {
     "data": {
      "image/png": "[encoded data removed]",
      "text/plain": [
       "<Figure size 432x288 with 1 Axes>"
      ]
     },
     "metadata": {},
     "output_type": "display_data"
    },
    {
     "name": "stdout",
     "output_type": "stream",
     "text": [
      "90% confidence interval (1.3014022473190723, 3.6588587122581417)\n",
      "Standard error 0.8068054983642342\n"
     ]
    },
    {
     "data": {
      "text/plain": [
       "<Figure size 576x432 with 0 Axes>"
      ]
     },
     "metadata": {},
     "output_type": "display_data"
    }
   ],
   "source": [
    "means = expSampling()\n",
    "\n",
    "# calculate CDF of the sample, confidence interval, and standard error\n",
    "cdf = thinkstats2.Cdf(means)\n",
    "ci = cdf.Percentile(5), cdf.Percentile(95)\n",
    "sterr = RMSE(means, 2.0)\n",
    "\n",
    "VertLine(ci[0])\n",
    "VertLine(ci[1])\n",
    "thinkplot.Cdf(cdf)\n",
    "thinkplot.Show(xlabel = 'Sample mean', ylabel = 'CDF')\n",
    "print('90% confidence interval', ci)\n",
    "print('Standard error', sterr)\n"
   ]
  },
  {
   "cell_type": "markdown",
   "metadata": {},
   "source": [
    "Run the experiment for different values of $n$ to see the impact on the standard error of the sample mean. "
   ]
  },
  {
   "cell_type": "code",
   "execution_count": 45,
   "metadata": {},
   "outputs": [
    {
     "name": "stderr",
     "output_type": "stream",
     "text": [
      "No handles with labels found to put in legend.\n"
     ]
    },
    {
     "data": {
      "image/png": "[encoded data removed]",
      "text/plain": [
       "<Figure size 432x288 with 1 Axes>"
      ]
     },
     "metadata": {},
     "output_type": "display_data"
    },
    {
     "data": {
      "text/plain": [
       "<Figure size 576x432 with 0 Axes>"
      ]
     },
     "metadata": {},
     "output_type": "display_data"
    }
   ],
   "source": [
    "stderr = {}\n",
    "for n in range(2,100):\n",
    "    means = expSampling(n=n)\n",
    "    stderr[n] = RMSE(means,2.0)\n",
    "\n",
    "thinkplot.Plot(pd.Series(stderr))\n",
    "thinkplot.Show(xlabel = 'Size of sample (n)', ylabel = 'Std. Error')"
   ]
  },
  {
   "cell_type": "markdown",
   "metadata": {},
   "source": [
    "The plot of standard error versus $n$, the sample size of each experiment, shows as sample size increases then the standard error of $L = 1/\\bar x$ goes to 0 which means $L$ is a maximum likelihood estimator of $\\lambda$."
   ]
  },
  {
   "cell_type": "code",
   "execution_count": null,
   "metadata": {},
   "outputs": [],
   "source": []
  }
 ],
 "metadata": {
  "kernelspec": {
   "display_name": "Python 3",
   "language": "python",
   "name": "python3"
  },
  "language_info": {
   "codemirror_mode": {
    "name": "ipython",
    "version": 3
   },
   "file_extension": ".py",
   "mimetype": "text/x-python",
   "name": "python",
   "nbconvert_exporter": "python",
   "pygments_lexer": "ipython3",
   "version": "3.6.5"
  }
 },
 "nbformat": 4,
 "nbformat_minor": 2
}
